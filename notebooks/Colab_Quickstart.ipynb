{
 "cells": [
  {
   "cell_type": "markdown",
   "id": "057c206a",
   "metadata": {},
   "source": [
    "# SE4050 Brain Tumor - Colab Quickstart\n",
    "This notebook mounts Drive, installs dependencies, and runs training/evaluation without needing to reclone each time."
   ]
  },
  {
   "cell_type": "code",
   "execution_count": null,
   "id": "9ac45703",
   "metadata": {},
   "outputs": [],
   "source": [
    "# 1) Mount Google Drive and set paths\n",
    "from google.colab import drive\n",
    "drive.mount('/content/drive')\n",
    "\n",
    "PROJECT_DIR = '/content/SE4050-Deep-Learning-Assignment'\n",
    "ZIP_PATH = '/content/drive/MyDrive/SE4050-Deep-Learning-Assignment.zip'  # Upload once to Drive\n",
    "DATA_DIR = '/content/drive/MyDrive/BrainTumor'  # must contain yes/ and no/ subfolders\n",
    "RESULTS_DIR = '/content/drive/MyDrive/brain_tumor_project/results/cnn'"
   ]
  },
  {
   "cell_type": "code",
   "execution_count": null,
   "id": "46e36efb",
   "metadata": {},
   "outputs": [],
   "source": [
    "# 2) Unzip project from Drive (avoids private git auth each session)\n",
    "import os, shutil, subprocess\n",
    "if os.path.isdir(PROJECT_DIR):\n",
    "    shutil.rmtree(PROJECT_DIR)\n",
    "!unzip -q \n",
    " -d /content\n",
    "%cd /content/SE4050-Deep-Learning-Assignment\n",
    "print('Project ready at', PROJECT_DIR)"
   ]
  },
  {
   "cell_type": "code",
   "execution_count": null,
   "id": "99feeda5",
   "metadata": {},
   "outputs": [],
   "source": [
    "# 3) Install dependencies\n",
    "!pip install -U pip\n",
    "!pip install -r requirements.txt\n",
    "import tensorflow as tf, platform\n",
    "print('TF version:', tf.__version__, 'Python:', platform.python_version())\n",
    "print('GPUs:', tf.config.list_physical_devices('GPU'))"
   ]
  },
  {
   "cell_type": "code",
   "execution_count": null,
   "id": "da1c7ee3",
   "metadata": {},
   "outputs": [],
   "source": [
    "# 4) Train (uses yes/no classes, weighted BCE and cosine LR)\n",
    "!python -m src.models.cnn.train_cnn \\\n",
    "  --data_dir \"$DATA_DIR\" \\\n",
    "  --results_dir \"$RESULTS_DIR\" \\\n",
    "  --classes yes no \\\n",
    "  --epochs 20 \\\n",
    "  --batch_size 32 \\\n",
    "  --img_size 224 224"
   ]
  },
  {
   "cell_type": "code",
   "execution_count": null,
   "id": "71478d7c",
   "metadata": {},
   "outputs": [],
   "source": [
    "# 5) Evaluate and produce Grad-CAMs\n",
    "!python -m src.models.cnn.evaluate_cnn \\\n",
    "  --data_dir \"$DATA_DIR\" \\\n",
    "  --results_dir \"$RESULTS_DIR\" \\\n",
    "  --classes yes no \\\n",
    "  --batch_size 32 \\\n",
    "  --img_size 224 224"
   ]
  }
 ],
 "metadata": {
  "language_info": {
   "name": "python"
  }
 },
 "nbformat": 4,
 "nbformat_minor": 5
}
