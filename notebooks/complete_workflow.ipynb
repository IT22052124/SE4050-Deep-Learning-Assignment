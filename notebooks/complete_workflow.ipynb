{
 "cells": [
  {
   "cell_type": "markdown",
   "id": "6093d396",
   "metadata": {},
   "source": [
    "# Complete Brain Tumor Classification Workflow\n",
    "\n",
    "This notebook guides you through the entire process from setting up the environment to training and evaluating models for brain tumor classification.\n",
    "\n",
    "## Workflow Overview\n",
    "\n",
    "1. **Mount Google Drive** (for Colab)\n",
    "2. **Clone/Update Repository**\n",
    "3. **Install Dependencies**\n",
    "4. **Preprocess Data** (required for first run or when raw data changes)\n",
    "5. **Train Model**\n",
    "6. **Evaluate Model**"
   ]
  },
  {
   "cell_type": "markdown",
   "id": "97ee7b55",
   "metadata": {},
   "source": [
    "## 1. Mount Google Drive (for Google Colab)\n",
    "\n",
    "If you're running this in Google Colab, first mount your Google Drive."
   ]
  },
  {
   "cell_type": "code",
   "execution_count": null,
   "id": "fee53bbe",
   "metadata": {},
   "outputs": [],
   "source": [
    "from google.colab import drive\n",
    "drive.mount('/content/drive')"
   ]
  },
  {
   "cell_type": "markdown",
   "id": "41d4aa86",
   "metadata": {},
   "source": [
    "## 2. Clone/Update Repository\n",
    "\n",
    "If the repository doesn't exist, it will be cloned. If it already exists, it will be updated with the latest changes."
   ]
  },
  {
   "cell_type": "code",
   "execution_count": null,
   "id": "e613bad1",
   "metadata": {},
   "outputs": [],
   "source": [
    "# Check if repo exists, clone if it doesn't, or update if it does\n",
    "import os\n",
    "\n",
    "repo_name = \"SE4050-Deep-Learning-Assignment\"\n",
    "if not os.path.exists(repo_name):\n",
    "    print(f\"Repository {repo_name} not found. Cloning...\")\n",
    "    !git clone https://github.com/IT22052124/SE4050-Deep-Learning-Assignment.git\n",
    "    %cd {repo_name}\n",
    "else:\n",
    "    print(f\"Repository {repo_name} already exists. Updating...\")\n",
    "    %cd {repo_name}\n",
    "    # Pull the latest changes from the repository\n",
    "    !git pull\n",
    "    # Show the latest commit to confirm the update\n",
    "    !git log -1 --pretty=format:\"Updated to: %h - %s (%an, %ar)\""
   ]
  },
  {
   "cell_type": "markdown",
   "id": "1e0a936d",
   "metadata": {},
   "source": [
    "## 3. Install Dependencies\n",
    "\n",
    "Install all required packages from requirements.txt."
   ]
  },
  {
   "cell_type": "code",
   "execution_count": null,
   "id": "d5220810",
   "metadata": {},
   "outputs": [],
   "source": [
    "!pip install -r requirements.txt"
   ]
  },
  {
   "cell_type": "markdown",
   "id": "bda77ee5",
   "metadata": {},
   "source": [
    "## 4. Preprocess the Data\n",
    "\n",
    "**IMPORTANT**: This step is required when:\n",
    "- Setting up the project for the first time\n",
    "- When raw data has been changed\n",
    "- If you want to recreate the processed data structure\n",
    "\n",
    "This step converts your raw images into a structured train/val/test format that the models can use. The preprocessed data will be saved in the designated output location."
   ]
  },
  {
   "cell_type": "code",
   "execution_count": null,
   "id": "58ea413d",
   "metadata": {},
   "outputs": [],
   "source": [
    "# Configure data paths for preprocessing\n",
    "# Adjust these to your specific folder structure if needed\n",
    "import os\n",
    "from pathlib import Path\n",
    "\n",
    "# Define where your raw data is located\n",
    "drive_root = \"/content/drive/MyDrive/brain_tumor_project\"  # Update this to your specific drive path\n",
    "raw_data_path = Path(drive_root) / \"data/archive\"\n",
    "output_data_path = Path(drive_root) / \"data/processed\"\n",
    "\n",
    "# Create output directory if it doesn't exist\n",
    "os.makedirs(output_data_path, exist_ok=True)\n",
    "\n",
    "# Run preprocessing script\n",
    "!python src/common/preprocess.py"
   ]
  },
  {
   "cell_type": "markdown",
   "id": "a81b5c9b",
   "metadata": {},
   "source": [
    "## 5. Train the CNN Model\n",
    "\n",
    "Train the CNN model using the preprocessed data. You can customize hyperparameters as needed."
   ]
  },
  {
   "cell_type": "code",
   "execution_count": null,
   "id": "03c76ebd",
   "metadata": {},
   "outputs": [],
   "source": [
    "# Define paths and parameters for training\n",
    "data_dir = \"/content/drive/MyDrive/brain_tumor_project/data/processed\"\n",
    "output_dir = \"/content/drive/MyDrive/brain_tumor_project/experiments/cnn\"\n",
    "\n",
    "# Create output directory if it doesn't exist\n",
    "os.makedirs(output_dir, exist_ok=True)\n",
    "\n",
    "# Run training with processed data structure\n",
    "!python src/models/cnn/train_cnn.py \\\n",
    "  --data_dir={data_dir} \\\n",
    "  --output_dir={output_dir} \\\n",
    "  --use_processed \\\n",
    "  --epochs=20 \\\n",
    "  --batch_size=32 \\\n",
    "  --learning_rate=0.001"
   ]
  },
  {
   "cell_type": "markdown",
   "id": "524422e0",
   "metadata": {},
   "source": [
    "## 6. Evaluate the Model\n",
    "\n",
    "Evaluate the trained model on the test set to get performance metrics and visualizations."
   ]
  },
  {
   "cell_type": "code",
   "execution_count": null,
   "id": "d0c5cd60",
   "metadata": {},
   "outputs": [],
   "source": [
    "# Evaluate the trained model\n",
    "model_path = f\"{output_dir}/model.h5\"\n",
    "\n",
    "!python src/models/cnn/evaluate_cnn.py \\\n",
    "  --data_dir={data_dir} \\\n",
    "  --model_path={model_path} \\\n",
    "  --output_dir={output_dir}/evaluation \\\n",
    "  --use_processed"
   ]
  },
  {
   "cell_type": "markdown",
   "id": "ad6ec582",
   "metadata": {},
   "source": [
    "## 7. Visualize Results\n",
    "\n",
    "Display evaluation metrics and visualizations."
   ]
  },
  {
   "cell_type": "code",
   "execution_count": null,
   "id": "4b6b633f",
   "metadata": {},
   "outputs": [],
   "source": [
    "import matplotlib.pyplot as plt\n",
    "import pandas as pd\n",
    "from pathlib import Path\n",
    "\n",
    "# Load and display metrics\n",
    "eval_dir = Path(f\"{output_dir}/evaluation\")\n",
    "if (eval_dir / \"metrics.csv\").exists():\n",
    "    metrics = pd.read_csv(eval_dir / \"metrics.csv\")\n",
    "    print(\"Model Performance Metrics:\")\n",
    "    print(metrics)\n",
    "    \n",
    "# Display confusion matrix if available\n",
    "if (eval_dir / \"confusion_matrix.png\").exists():\n",
    "    plt.figure(figsize=(8, 6))\n",
    "    img = plt.imread(eval_dir / \"confusion_matrix.png\")\n",
    "    plt.imshow(img)\n",
    "    plt.axis('off')\n",
    "    plt.title('Confusion Matrix')\n",
    "    plt.show()"
   ]
  }
 ],
 "metadata": {
  "language_info": {
   "name": "python"
  }
 },
 "nbformat": 4,
 "nbformat_minor": 5
}
